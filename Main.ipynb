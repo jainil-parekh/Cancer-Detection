{
 "cells": [
  {
   "cell_type": "code",
   "execution_count": 1,
   "id": "ab81681f-07f7-4d19-ae92-ce4aef37b40b",
   "metadata": {},
   "outputs": [],
   "source": [
    "import pandas as pd\n",
    "from sklearn.preprocessing import StandardScaler\n",
    "from sklearn.model_selection import train_test_split\n",
    "from sklearn.linear_model import LogisticRegression\n",
    "from sklearn.metrics import accuracy_score, classification_report\n",
    "import pickle"
   ]
  },
  {
   "cell_type": "code",
   "execution_count": 2,
   "id": "b08fc87e-dc34-4fbf-9998-7179fc74d686",
   "metadata": {},
   "outputs": [],
   "source": [
    "def create_model(data):\n",
    "    X = data.drop(['diagnosis'], axis=1)\n",
    "    y = data['diagnosis']\n",
    "\n",
    "    # Scaling the data\n",
    "    scaler = StandardScaler()\n",
    "    X = scaler.fit_transform(X)\n",
    "\n",
    "    # Splitting the data\n",
    "    X_train, X_test, y_train, y_test = train_test_split(X, y, test_size=0.2, random_state=42)\n",
    "\n",
    "    # Train\n",
    "    model = LogisticRegression()\n",
    "    model.fit(X_train, y_train)\n",
    "\n",
    "    # Testing the model\n",
    "    y_pred = model.predict(X_test)\n",
    "    print(\"The accuracy of our model is: \", accuracy_score(y_test, y_pred))\n",
    "    print(\"Classification report:\\n\", classification_report(y_test, y_pred))\n",
    "\n",
    "    return model, scaler\n",
    "\n",
    "def get_clean_data():\n",
    "    data = pd.read_csv(\"C:/Users/jpare/Machine Learning Projects/Cancer Detection/Cancer Dataset.csv\")\n",
    "    data = data.drop(['Unnamed: 32', 'id'], axis=1)\n",
    "    data['diagnosis'] = data['diagnosis'].map({'M': 1, 'B': 0})\n",
    "    return data\n"
   ]
  },
  {
   "cell_type": "code",
   "execution_count": 3,
   "id": "f3dd9d02-1255-41bc-a2c9-75bdede1f216",
   "metadata": {
    "scrolled": true
   },
   "outputs": [],
   "source": [
    "# Replace with the correct dataset path\n",
    "def main():\n",
    "    data = get_clean_data()\n",
    "\n",
    "    # Train the model\n",
    "    model, scaler = create_model(data)\n",
    "\n",
    "    # Save the model\n",
    "    with open('model.pkl', 'wb') as f:\n",
    "        pickle.dump(model, f)\n",
    "    \n",
    "    # Save the scaler\n",
    "    with open('scaler.pkl', 'wb') as f:\n",
    "        pickle.dump(scaler, f)"
   ]
  },
  {
   "cell_type": "code",
   "execution_count": 4,
   "id": "52979d4b-77e3-4ce5-8491-95b824192500",
   "metadata": {},
   "outputs": [
    {
     "name": "stdout",
     "output_type": "stream",
     "text": [
      "Model file exists: True\n",
      "Scaler file exists: True\n"
     ]
    }
   ],
   "source": [
    "import os\n",
    "\n",
    "print(\"Model file exists:\", os.path.exists(\"model.pkl\"))\n",
    "print(\"Scaler file exists:\", os.path.exists(\"scaler.pkl\"))"
   ]
  },
  {
   "cell_type": "code",
   "execution_count": 5,
   "id": "e1f2c7aa-2589-42a1-ad61-d7611dc82b29",
   "metadata": {},
   "outputs": [],
   "source": [
    "import os\n",
    "import pickle\n",
    "\n",
    "def main():\n",
    "    data = get_clean_data()\n",
    "\n",
    "    # Train the model\n",
    "    model, scaler = create_model(data)\n",
    "\n",
    "    # Absolute paths for saving files\n",
    "    model_path = \"C:/Users/jpare/Machine Learning Projects/Cancer Detection/model.pkl\"\n",
    "    scaler_path = \"C:/Users/jpare/Machine Learning Projects/Cancer Detection/scaler.pkl\"\n",
    "\n",
    "    # Save the model\n",
    "    with open(model_path, 'wb') as f:\n",
    "        pickle.dump(model, f)\n",
    "    \n",
    "    # Save the scaler\n",
    "    with open(scaler_path, 'wb') as f:\n",
    "        pickle.dump(scaler, f)\n",
    "\n",
    "    print(f\"Model saved at: {model_path}\")\n",
    "    print(f\"Scaler saved at: {scaler_path}\")\n"
   ]
  },
  {
   "cell_type": "code",
   "execution_count": 6,
   "id": "92dd225b-42e3-4958-b426-29b5a440c94b",
   "metadata": {},
   "outputs": [
    {
     "name": "stdout",
     "output_type": "stream",
     "text": [
      "The accuracy of our model is:  0.9736842105263158\n",
      "Classification report:\n",
      "               precision    recall  f1-score   support\n",
      "\n",
      "           0       0.97      0.99      0.98        71\n",
      "           1       0.98      0.95      0.96        43\n",
      "\n",
      "    accuracy                           0.97       114\n",
      "   macro avg       0.97      0.97      0.97       114\n",
      "weighted avg       0.97      0.97      0.97       114\n",
      "\n",
      "Model saved at: C:/Users/jpare/Machine Learning Projects/Cancer Detection/model.pkl\n",
      "Scaler saved at: C:/Users/jpare/Machine Learning Projects/Cancer Detection/scaler.pkl\n"
     ]
    }
   ],
   "source": [
    "if __name__ == '__main__':\n",
    "    main()\n"
   ]
  }
 ],
 "metadata": {
  "kernelspec": {
   "display_name": "Python 3 (ipykernel)",
   "language": "python",
   "name": "python3"
  },
  "language_info": {
   "codemirror_mode": {
    "name": "ipython",
    "version": 3
   },
   "file_extension": ".py",
   "mimetype": "text/x-python",
   "name": "python",
   "nbconvert_exporter": "python",
   "pygments_lexer": "ipython3",
   "version": "3.11.4"
  }
 },
 "nbformat": 4,
 "nbformat_minor": 5
}
